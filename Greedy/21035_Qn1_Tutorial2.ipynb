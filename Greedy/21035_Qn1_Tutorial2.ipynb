{
 "cells": [
  {
   "cell_type": "markdown",
   "id": "4a7c4ec5-150b-483d-b7f1-131149c5ae48",
   "metadata": {},
   "source": [
    "# QN1-S.MEENAKSHI - CB.EN.U4CSE21035"
   ]
  },
  {
   "cell_type": "markdown",
   "id": "035a0f30-580c-45ba-9e50-6a4305f6859c",
   "metadata": {},
   "source": [
    "### Suppose you are organizing a party for a large group of your friends. Your friends are pretty opinionated, though, and you don’t want to invite two friends if they don’t like each other. So you have asked each of your friends to give you an “enemies” list, which identifies all the other people among your friends that they dislike and for whom they know the feeling is mutual.\r\n",
    "### Your goal is to invite the largest set of friends possible such that no pair of invited friends dislike each other. How would you solve this problem. Model this problem appropriately and explain the modeln the model."
   ]
  },
  {
   "cell_type": "markdown",
   "id": "a49b5f11-bc08-4c72-b8fb-883bdba5c147",
   "metadata": {},
   "source": [
    "## 1. Give a greedy algorithm for the solving the problem. Prove that it is optimal or give a counter example\n",
    "## Soln."
   ]
  },
  {
   "cell_type": "markdown",
   "id": "be63b893-34b4-4fb2-926c-5d3e94a42f25",
   "metadata": {},
   "source": [
    "### Example Illustrating the Limitation of Relative's Greedy Algorithm:\r\n",
    "\r\n",
    "Consider a scenario where we need to invite friends to a party, and the friends are:\r\n",
    "\r\n",
    "- Ram\r\n",
    "- Raju\r\n",
    "- Balu\r\n",
    "- Krishna\r\n",
    "- Radha\r\n",
    "- Sita\r\n",
    "- Balram\r\n",
    "\r\n",
    "Each friend has an enemy list as follows:\r\n",
    "\r\n",
    "- **Ram:** Raju, Balu, Krishna\r\n",
    "- **Raju:** Ram, Radha, Sita, Balram\r\n",
    "- **Balu:** Ram, Radha, Sita, Balram\r\n",
    "- **Krishna:** Ram, Radha, Sita, Balram\r\n",
    "- **Radha:** Raju, Balu, Krishna, Sita, Balram\r\n",
    "- **Sita:** Raju, Balu, Krishna, Radha, Balram\r\n",
    "- **Balram:** Raju, Balu, Krishna, Sita, Radha\r\n",
    "\r\n",
    "According to the relative's greedy algorithm, we would invite the person with the fewest enemies first, which in this case is Ram. However, this choice leads to a suboptimal solution.\r\n",
    "\r\n",
    "If we invite Ram, then Raju, Balu, and Krishna cannot be invited due to their enmity with Ram. The next eligible candidates are Radha, Sita, and Balram. However, choosing any one of them results in a situation where only two members, Ram and the chosen friend, can be invited because theThe optimal solution, in this case, is to invite Raju, Balu, and Krishna, as they form a group of three friends who do not have enmity with each other.eiends without mutual enmities.\r\n",
    "h each other.h each other.d. "
   ]
  },
  {
   "cell_type": "code",
   "execution_count": 26,
   "id": "09ca282e-da4a-45d7-867b-395fb6b0ed81",
   "metadata": {},
   "outputs": [
    {
     "name": "stdout",
     "output_type": "stream",
     "text": [
      "Optimal invitation list: ['Ram', 'Radha']\n"
     ]
    }
   ],
   "source": [
    "def invite_friends(friends, enemies):\n",
    "    invited = []\n",
    "\n",
    "    while friends:\n",
    "        # Count the number of enemies each friend has\n",
    "        enemy_counts = {friend: sum(1 for enemy in enemies[friend] if enemy not in invited) for friend in friends}\n",
    "\n",
    "        # Find the friend with the fewest enemies\n",
    "        chosen_friend = min(enemy_counts, key=enemy_counts.get)\n",
    "\n",
    "        # Check if the chosen friend is not an enemy of someone already invited\n",
    "        if all(enemy not in invited for enemy in enemies[chosen_friend]):\n",
    "            invited.append(chosen_friend)\n",
    "            friends.remove(chosen_friend)\n",
    "        else:\n",
    "            # If the chosen friend has enemies among the already invited, remove them from the friends list\n",
    "            friends.remove(chosen_friend)\n",
    "\n",
    "    return invited\n",
    "\n",
    "# Updated names\n",
    "friends = [\"Ram\", \"Raju\", \"Balu\", \"Krishna\", \"Radha\", \"Sita\", \"Mohan\"]\n",
    "enemies = {\n",
    "    \"Ram\": [\"Raju\", \"Balu\", \"Krishna\"],\n",
    "    \"Raju\": [\"Ram\", \"Radha\", \"Sita\", \"Mohan\"],\n",
    "    \"Balu\": [\"Ram\", \"Radha\", \"Sita\", \"Mohan\"],\n",
    "    \"Krishna\": [\"Ram\", \"Radha\", \"Sita\", \"Mohan\"],\n",
    "    \"Radha\": [\"Raju\", \"Balu\", \"Krishna\", \"Sita\", \"Mohan\"],\n",
    "    \"Sita\": [\"Raju\", \"Balu\", \"Krishna\", \"Radha\", \"Mohan\"],\n",
    "    \"Mohan\": [\"Raju\", \"Balu\", \"Krishna\", \"Sita\", \"Radha\"]\n",
    "}\n",
    "\n",
    "invited_friends = invite_friends(friends.copy(), enemies.copy())\n",
    "print(\"Optimal invitation list:\", invited_friends)\n"
   ]
  },
  {
   "cell_type": "markdown",
   "id": "5635a4f4-ad96-4988-b0b2-dc5434e13182",
   "metadata": {},
   "source": [
    "### Conclusion:\n",
    "\n",
    "This example demonstrates that the relative's greedy algorithm  **may not always yield the optimal solution**. \n",
    "In this specific case, inviting Ram first does not maximize the number of friends at the party. Instead, a better choice is to invite Raju, Balu, and Krishna, forming a group of three friends without mutual enmities."
   ]
  },
  {
   "cell_type": "markdown",
   "id": "900b03bd-dd82-4eb5-b431-4cb4481afd2e",
   "metadata": {},
   "source": [
    "## 2. Can this be solved using DP or Backtracking. Explain your answer and give a suitable algorithm.\n",
    "## SOLN.."
   ]
  },
  {
   "cell_type": "markdown",
   "id": "8070ee63-7946-4689-abc4-f69dced1b695",
   "metadata": {},
   "source": [
    "This problem is essentially finding the maximum independent set in an undirected graph. In graph theory, an independent set is a set of vertices in a graph, no two of which are adjacent (i.e., there is no edge connecting them). The maximum independent set is the largest possible independent set in the graph.\n",
    "\n",
    "**Model:**\n",
    "- **Vertices:** Each friend is represented as a vertex in the graph.\n",
    "- **Edges:** If two friends dislike each other, there is an edge between the corresponding vertices. The goal is to find the maximum independent set, which represents the largest group of friends who do not dislike each other.\n",
    "- **Objective:** Maximize the size of the independent set.\n",
    "\n",
    "We are finding the largest set of vertices (friends) such that no two vertices are connected by an edge (no two friends dislike each other). "
   ]
  },
  {
   "cell_type": "markdown",
   "id": "71d6ec2b-a688-46fc-b35a-cd206193f923",
   "metadata": {},
   "source": [
    "**Backtracking is a more suitable approach for this problem. The basic idea is to explore the solution space by trying different combinations of friends and backtracking when a solution is not feasible.**"
   ]
  },
  {
   "cell_type": "markdown",
   "id": "96321abc-4e08-48cb-84da-fa055e16c6c1",
   "metadata": {},
   "source": [
    "### Algorithm"
   ]
  },
  {
   "cell_type": "markdown",
   "id": "82c72c58-3f53-49d0-b68a-9bad8d5cf002",
   "metadata": {},
   "source": [
    "1. **Represent Relationships as Undirected Graph:**\r\n",
    "   - Construct an undirected graph where each friend is a node, and there is an edge between nodes if the corresponding friends dislike each other.\r\n",
    "\r\n",
    "2. **Initialize Variables:**\r\n",
    "   - Create an empty set (`independentSets`) to represent the currently invited friends.\r\n",
    "   - Create an empty set (`maximalIndependentSets`) to store the largest sets encountered.\r\n",
    "\r\n",
    "3. **Backtracking Algorithm:**\r\n",
    "   - Begin with the first friend:\r\n",
    "      - Add them to the invited set (`tempSolutionSet`).\r\n",
    "      - Recursively explore the solution space.\r\n",
    "      - At each step:\r\n",
    "         - Consider the next friend.\r\n",
    "         - If adding them to the set doesn't create a conflict (check with `isSafeForIndependentSet` function), proceed recursively.\r\n",
    "         - Backtrack if necessary by removing the friend from the set.\r\n",
    "\r\n",
    "4. **Base Case:**\r\n",
    "   - When there are no more friends to consider:\r\n",
    "      - Check if the size of the current set is larger than the largest set encountered so far.\r\n",
    "      - Update the largest set (`maximalIndependentSets`) if needed.\r\n",
    "\r\n",
    "5. **Print Results:**\r\n",
    "   - Print all independent sets using the `printAllIndependentSets` function.\r\n",
    "   - Print the maximal independent sets using the `printMaximalIndependentSets` function.\r\n"
   ]
  },
  {
   "cell_type": "markdown",
   "id": "2cb27308-6213-49a3-b5d5-aa5935adb2a3",
   "metadata": {},
   "source": [
    "# Different Test cases Explored"
   ]
  },
  {
   "cell_type": "markdown",
   "id": "24054f85-e21e-4469-97ca-5e9883d9aeba",
   "metadata": {},
   "source": [
    "### Basic Case:\n",
    "\n",
    "**Input:** A small number of friends with no conflicts.\n",
    "\n",
    "**Expected Output:** All friends could be invited together.\n",
    "\n",
    "---\n",
    "\n",
    "### Conflict Resolution:\n",
    "\n",
    "**Input:** Friends with conflicting relationships.\n",
    "\n",
    "**Expected Output:** The algorithm identified and excluded conflicting friends from the same set.\n",
    "\n",
    "---\n",
    "\n",
    "### Multiple Independent Sets:\n",
    "\n",
    "**Input:** Friends that can form multiple independent sets.\n",
    "\n",
    "**Expected Output:** The algorithm found and displayed all possible independent sets.\n",
    "\n",
    "---\n",
    "\n",
    "### Large Friendship Network:\n",
    "\n",
    "**Input:** A large number of friends with various relationships.\n",
    "\n",
    "**Expected Output:** The program efficiently handled a larger dataset.\n",
    "\n",
    "---\n",
    "\n",
    "### No Friendships:\n",
    "\n",
    "**Input:** Friends with no conflicts.\n",
    "\n",
    "**Expected Output:** All friends could be invited together; the program handled this scenario gracefully.\n",
    "\n",
    "---\n",
    "\n",
    "### All Friends Dislike Each Other:\n",
    "\n",
    "**Input:** All friends have conflicts with every other friend.\n",
    "\n",
    "**Expected Output:** No friends could be invited together.\n",
    "\n",
    "---\n",
    "\n",
    "### Empty Input:\n",
    "\n",
    "**Input:** No friends provided.\n",
    "\n",
    "**Expected Output:** The program handled empty input gracefully.\n"
   ]
  },
  {
   "cell_type": "code",
   "execution_count": null,
   "id": "1377545a-b5eb-4f6e-b040-7507282d5881",
   "metadata": {},
   "outputs": [],
   "source": []
  }
 ],
 "metadata": {
  "kernelspec": {
   "display_name": "Python 3 (ipykernel)",
   "language": "python",
   "name": "python3"
  },
  "language_info": {
   "codemirror_mode": {
    "name": "ipython",
    "version": 3
   },
   "file_extension": ".py",
   "mimetype": "text/x-python",
   "name": "python",
   "nbconvert_exporter": "python",
   "pygments_lexer": "ipython3",
   "version": "3.11.2"
  }
 },
 "nbformat": 4,
 "nbformat_minor": 5
}
